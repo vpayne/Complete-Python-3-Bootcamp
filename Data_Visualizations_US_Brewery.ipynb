{
  "nbformat": 4,
  "nbformat_minor": 0,
  "metadata": {
    "colab": {
      "name": "Data Visualizations US Brewery.ipynb",
      "provenance": [],
      "include_colab_link": true
    },
    "kernelspec": {
      "name": "python3",
      "display_name": "Python 3"
    }
  },
  "cells": [
    {
      "cell_type": "markdown",
      "metadata": {
        "id": "view-in-github",
        "colab_type": "text"
      },
      "source": [
        "<a href=\"https://colab.research.google.com/github/vpayne/Complete-Python-3-Bootcamp/blob/master/Data_Visualizations_US_Brewery.ipynb\" target=\"_parent\"><img src=\"https://colab.research.google.com/assets/colab-badge.svg\" alt=\"Open In Colab\"/></a>"
      ]
    },
    {
      "cell_type": "code",
      "metadata": {
        "id": "zp8FW_5gpg0L",
        "colab_type": "code",
        "colab": {}
      },
      "source": [
        "import numpy as np\n",
        "import pandas as pd\n",
        "import matplotlib as mpl # Machine learning libraries\n",
        "import matplotlib.pyplot as plt\n",
        "%matplotlib inline"
      ],
      "execution_count": 0,
      "outputs": []
    },
    {
      "cell_type": "code",
      "metadata": {
        "id": "7dq0dwDzp9Jl",
        "colab_type": "code",
        "colab": {}
      },
      "source": [
        "brewery = pd.read_csv('https://raw.githubusercontent.com/vpayne/Data-Visualizations-Samples/master/breweries_us.csv')"
      ],
      "execution_count": 0,
      "outputs": []
    },
    {
      "cell_type": "code",
      "metadata": {
        "id": "ZZRbWum2qJDd",
        "colab_type": "code",
        "colab": {
          "base_uri": "https://localhost:8080/",
          "height": 621
        },
        "outputId": "b8ed1c49-a705-476a-8981-b3d0ea07cbd0"
      },
      "source": [
        "# Shows the top 5 entries (or more if I pass a number)\n",
        "brewery.head()"
      ],
      "execution_count": 3,
      "outputs": [
        {
          "output_type": "execute_result",
          "data": {
            "text/html": [
              "<div>\n",
              "<style scoped>\n",
              "    .dataframe tbody tr th:only-of-type {\n",
              "        vertical-align: middle;\n",
              "    }\n",
              "\n",
              "    .dataframe tbody tr th {\n",
              "        vertical-align: top;\n",
              "    }\n",
              "\n",
              "    .dataframe thead th {\n",
              "        text-align: right;\n",
              "    }\n",
              "</style>\n",
              "<table border=\"1\" class=\"dataframe\">\n",
              "  <thead>\n",
              "    <tr style=\"text-align: right;\">\n",
              "      <th></th>\n",
              "      <th>brewery_name</th>\n",
              "      <th>type</th>\n",
              "      <th>address</th>\n",
              "      <th>website</th>\n",
              "      <th>state</th>\n",
              "      <th>state_breweries</th>\n",
              "    </tr>\n",
              "  </thead>\n",
              "  <tbody>\n",
              "    <tr>\n",
              "      <th>0</th>\n",
              "      <td>Valley Brewing Co.</td>\n",
              "      <td>Brewpub</td>\n",
              "      <td>PO Box 4653, Stockton, California, 95204</td>\n",
              "      <td>http://www.valleybrew.com/</td>\n",
              "      <td>california</td>\n",
              "      <td>284</td>\n",
              "    </tr>\n",
              "    <tr>\n",
              "      <th>1</th>\n",
              "      <td>Valley Brewing Co.</td>\n",
              "      <td>Brewpub</td>\n",
              "      <td>157 Adams St., Stockton, California, 95204</td>\n",
              "      <td>http://www.valleybrew.com/</td>\n",
              "      <td>california</td>\n",
              "      <td>284</td>\n",
              "    </tr>\n",
              "    <tr>\n",
              "      <th>2</th>\n",
              "      <td>Valley Brewing Co</td>\n",
              "      <td>Microbrewery</td>\n",
              "      <td>1950 W Freemont, Stockton, California, 95203</td>\n",
              "      <td>http://www.valleybrew.com/</td>\n",
              "      <td>california</td>\n",
              "      <td>284</td>\n",
              "    </tr>\n",
              "    <tr>\n",
              "      <th>3</th>\n",
              "      <td>Ukiah Brewing Company</td>\n",
              "      <td>Brewpub</td>\n",
              "      <td>102 S. State St., Ukiah, California, 95482</td>\n",
              "      <td>http://www.ukiahbrewingco.com/</td>\n",
              "      <td>california</td>\n",
              "      <td>284</td>\n",
              "    </tr>\n",
              "    <tr>\n",
              "      <th>4</th>\n",
              "      <td>Tustin Brewing Co.</td>\n",
              "      <td>Brewpub</td>\n",
              "      <td>13011 Newport Ave. #100, Tustin, California, 9...</td>\n",
              "      <td>http://www.tustinbrewery.com/</td>\n",
              "      <td>california</td>\n",
              "      <td>284</td>\n",
              "    </tr>\n",
              "  </tbody>\n",
              "</table>\n",
              "</div>"
            ],
            "text/plain": [
              "            brewery_name          type  ...       state state_breweries\n",
              "0     Valley Brewing Co.       Brewpub  ...  california             284\n",
              "1     Valley Brewing Co.       Brewpub  ...  california             284\n",
              "2      Valley Brewing Co  Microbrewery  ...  california             284\n",
              "3  Ukiah Brewing Company       Brewpub  ...  california             284\n",
              "4     Tustin Brewing Co.       Brewpub  ...  california             284\n",
              "\n",
              "[5 rows x 6 columns]"
            ]
          },
          "metadata": {
            "tags": []
          },
          "execution_count": 3
        }
      ]
    },
    {
      "cell_type": "code",
      "metadata": {
        "id": "qfCX1hyZqLhR",
        "colab_type": "code",
        "colab": {
          "base_uri": "https://localhost:8080/",
          "height": 52
        },
        "outputId": "b570b27f-a06b-44df-bca0-637bff1945fa"
      },
      "source": [
        "# Gives a list of Column names\n",
        "brewery.columns.values"
      ],
      "execution_count": 4,
      "outputs": [
        {
          "output_type": "execute_result",
          "data": {
            "text/plain": [
              "array(['brewery_name', 'type', 'address', 'website', 'state',\n",
              "       'state_breweries'], dtype=object)"
            ]
          },
          "metadata": {
            "tags": []
          },
          "execution_count": 4
        }
      ]
    },
    {
      "cell_type": "code",
      "metadata": {
        "id": "9ocJ6o3cqO9Y",
        "colab_type": "code",
        "colab": {
          "base_uri": "https://localhost:8080/",
          "height": 35
        },
        "outputId": "50eb73ff-85b7-416c-e67d-fd74165746ad"
      },
      "source": [
        "# Gives size of data that is uploaded\n",
        "brewery.shape"
      ],
      "execution_count": 5,
      "outputs": [
        {
          "output_type": "execute_result",
          "data": {
            "text/plain": [
              "(2407, 6)"
            ]
          },
          "metadata": {
            "tags": []
          },
          "execution_count": 5
        }
      ]
    },
    {
      "cell_type": "code",
      "metadata": {
        "id": "uWMD671LqRan",
        "colab_type": "code",
        "colab": {
          "base_uri": "https://localhost:8080/",
          "height": 1000
        },
        "outputId": "1d45cc30-901f-442d-9b08-bdb2a2988fff"
      },
      "source": [
        "# Shows all the data from the DataFrame\n",
        "brewery"
      ],
      "execution_count": 6,
      "outputs": [
        {
          "output_type": "execute_result",
          "data": {
            "text/html": [
              "<div>\n",
              "<style scoped>\n",
              "    .dataframe tbody tr th:only-of-type {\n",
              "        vertical-align: middle;\n",
              "    }\n",
              "\n",
              "    .dataframe tbody tr th {\n",
              "        vertical-align: top;\n",
              "    }\n",
              "\n",
              "    .dataframe thead th {\n",
              "        text-align: right;\n",
              "    }\n",
              "</style>\n",
              "<table border=\"1\" class=\"dataframe\">\n",
              "  <thead>\n",
              "    <tr style=\"text-align: right;\">\n",
              "      <th></th>\n",
              "      <th>brewery_name</th>\n",
              "      <th>type</th>\n",
              "      <th>address</th>\n",
              "      <th>website</th>\n",
              "      <th>state</th>\n",
              "      <th>state_breweries</th>\n",
              "    </tr>\n",
              "  </thead>\n",
              "  <tbody>\n",
              "    <tr>\n",
              "      <th>0</th>\n",
              "      <td>Valley Brewing Co.</td>\n",
              "      <td>Brewpub</td>\n",
              "      <td>PO Box 4653, Stockton, California, 95204</td>\n",
              "      <td>http://www.valleybrew.com/</td>\n",
              "      <td>california</td>\n",
              "      <td>284</td>\n",
              "    </tr>\n",
              "    <tr>\n",
              "      <th>1</th>\n",
              "      <td>Valley Brewing Co.</td>\n",
              "      <td>Brewpub</td>\n",
              "      <td>157 Adams St., Stockton, California, 95204</td>\n",
              "      <td>http://www.valleybrew.com/</td>\n",
              "      <td>california</td>\n",
              "      <td>284</td>\n",
              "    </tr>\n",
              "    <tr>\n",
              "      <th>2</th>\n",
              "      <td>Valley Brewing Co</td>\n",
              "      <td>Microbrewery</td>\n",
              "      <td>1950 W Freemont, Stockton, California, 95203</td>\n",
              "      <td>http://www.valleybrew.com/</td>\n",
              "      <td>california</td>\n",
              "      <td>284</td>\n",
              "    </tr>\n",
              "    <tr>\n",
              "      <th>3</th>\n",
              "      <td>Ukiah Brewing Company</td>\n",
              "      <td>Brewpub</td>\n",
              "      <td>102 S. State St., Ukiah, California, 95482</td>\n",
              "      <td>http://www.ukiahbrewingco.com/</td>\n",
              "      <td>california</td>\n",
              "      <td>284</td>\n",
              "    </tr>\n",
              "    <tr>\n",
              "      <th>4</th>\n",
              "      <td>Tustin Brewing Co.</td>\n",
              "      <td>Brewpub</td>\n",
              "      <td>13011 Newport Ave. #100, Tustin, California, 9...</td>\n",
              "      <td>http://www.tustinbrewery.com/</td>\n",
              "      <td>california</td>\n",
              "      <td>284</td>\n",
              "    </tr>\n",
              "    <tr>\n",
              "      <th>...</th>\n",
              "      <td>...</td>\n",
              "      <td>...</td>\n",
              "      <td>...</td>\n",
              "      <td>...</td>\n",
              "      <td>...</td>\n",
              "      <td>...</td>\n",
              "    </tr>\n",
              "    <tr>\n",
              "      <th>2402</th>\n",
              "      <td>Capitol City Brewing Company (Capitol Hill)</td>\n",
              "      <td>Brewpub</td>\n",
              "      <td>2 Massachusetts Ave., Washington, DC, Washingt...</td>\n",
              "      <td>http://www.capcitybrew.com/</td>\n",
              "      <td>washington-dc</td>\n",
              "      <td>9</td>\n",
              "    </tr>\n",
              "    <tr>\n",
              "      <th>2403</th>\n",
              "      <td>Capitol City Brewing Company</td>\n",
              "      <td>Brewpub</td>\n",
              "      <td>1100 New York Ave. NW, Washington, DC, Washing...</td>\n",
              "      <td>http://www.capcitybrew.com/</td>\n",
              "      <td>washington-dc</td>\n",
              "      <td>9</td>\n",
              "    </tr>\n",
              "    <tr>\n",
              "      <th>2404</th>\n",
              "      <td>Old Harbor Brewery</td>\n",
              "      <td>Brewpub</td>\n",
              "      <td>Gen del Valle 1021 Urb Delicias, San Juan, PR,...</td>\n",
              "      <td>http://oldharborbrewery.com/</td>\n",
              "      <td>puerto-rico</td>\n",
              "      <td>3</td>\n",
              "    </tr>\n",
              "    <tr>\n",
              "      <th>2405</th>\n",
              "      <td>Isla Verde Brewing Co.</td>\n",
              "      <td>Microbrewery</td>\n",
              "      <td>Condiminum Torrimar Plaza # 14B, Guaynabo , PR...</td>\n",
              "      <td>...</td>\n",
              "      <td>puerto-rico</td>\n",
              "      <td>3</td>\n",
              "    </tr>\n",
              "    <tr>\n",
              "      <th>2406</th>\n",
              "      <td>Cerveceria India Inc</td>\n",
              "      <td>RegionalBrewery</td>\n",
              "      <td>PO Box 1690, Mayaguez, PR, 681</td>\n",
              "      <td>...</td>\n",
              "      <td>puerto-rico</td>\n",
              "      <td>3</td>\n",
              "    </tr>\n",
              "  </tbody>\n",
              "</table>\n",
              "<p>2407 rows × 6 columns</p>\n",
              "</div>"
            ],
            "text/plain": [
              "                                     brewery_name  ... state_breweries\n",
              "0                              Valley Brewing Co.  ...             284\n",
              "1                              Valley Brewing Co.  ...             284\n",
              "2                               Valley Brewing Co  ...             284\n",
              "3                           Ukiah Brewing Company  ...             284\n",
              "4                              Tustin Brewing Co.  ...             284\n",
              "...                                           ...  ...             ...\n",
              "2402  Capitol City Brewing Company (Capitol Hill)  ...               9\n",
              "2403                 Capitol City Brewing Company  ...               9\n",
              "2404                           Old Harbor Brewery  ...               3\n",
              "2405                       Isla Verde Brewing Co.  ...               3\n",
              "2406                         Cerveceria India Inc  ...               3\n",
              "\n",
              "[2407 rows x 6 columns]"
            ]
          },
          "metadata": {
            "tags": []
          },
          "execution_count": 6
        }
      ]
    },
    {
      "cell_type": "code",
      "metadata": {
        "id": "PzD5rHlJrKtr",
        "colab_type": "code",
        "colab": {
          "base_uri": "https://localhost:8080/",
          "height": 35
        },
        "outputId": "dd8be4c8-38b9-40c2-a20c-6bc04fec82de"
      },
      "source": [
        "brewery.plot"
      ],
      "execution_count": 7,
      "outputs": [
        {
          "output_type": "execute_result",
          "data": {
            "text/plain": [
              "<pandas.plotting._core.PlotAccessor object at 0x7f7e0b326710>"
            ]
          },
          "metadata": {
            "tags": []
          },
          "execution_count": 7
        }
      ]
    },
    {
      "cell_type": "code",
      "metadata": {
        "id": "_eiA-wyWrQTY",
        "colab_type": "code",
        "colab": {
          "base_uri": "https://localhost:8080/",
          "height": 187
        },
        "outputId": "8e66a89f-5d4e-45eb-a4cc-fae8d3a9c738"
      },
      "source": [
        "# I renamed DataFrame to not overwrite the original\n",
        "brewery_loc = brewery.plot.area(x='state',y='state_breweries')\n",
        "\n",
        "plt.title('Area Plot')\n",
        "plt.ylabel('Number of Breweries')\n",
        "plt.xlabel('State')\n",
        "\n",
        "# I noticed the graph was pretty cramped so I extended the size below\n",
        "plt.rcParams['figure.figsize']=(10,2)\n",
        "\n",
        "plt.show()"
      ],
      "execution_count": 20,
      "outputs": [
        {
          "output_type": "display_data",
          "data": {
            "image/png": "[encoded data removed]",
            "text/plain": [
              "<Figure size 720x144 with 1 Axes>"
            ]
          },
          "metadata": {
            "tags": []
          }
        }
      ]
    },
    {
      "cell_type": "code",
      "metadata": {
        "id": "q3vb0K1Wr7dX",
        "colab_type": "code",
        "colab": {}
      },
      "source": [
        "\n",
        "plt.rcParams['figure.figsize']=(10,2)"
      ],
      "execution_count": 0,
      "outputs": []
    }
  ]
}